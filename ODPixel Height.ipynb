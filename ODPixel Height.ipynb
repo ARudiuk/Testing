{
 "cells": [
  {
   "cell_type": "code",
   "execution_count": 1,
   "metadata": {},
   "outputs": [],
   "source": [
    "# get our libraries!\n",
    "import scipy.stats as st\n",
    "import numpy as np\n",
    "import seaborn as sns\n",
    "import matplotlib.pyplot as plt\n",
    "import pystan as pystan\n",
    "import pandas as pd\n",
    "%matplotlib inline"
   ]
  },
  {
   "cell_type": "code",
   "execution_count": 258,
   "metadata": {},
   "outputs": [
    {
     "data": {
      "text/plain": [
       "<matplotlib.lines.Line2D at 0x7fd1516841d0>"
      ]
     },
     "execution_count": 258,
     "metadata": {},
     "output_type": "execute_result"
    },
    {
     "data": {
      "image/png": "[encoded data removed]",
      "text/plain": [
       "<matplotlib.figure.Figure at 0x7fd151684d30>"
      ]
     },
     "metadata": {},
     "output_type": "display_data"
    }
   ],
   "source": [
    "\"\"\" \n",
    "I'll try to estimate the chances of ODPixel being a certain height! \n",
    "I'm sure i've done many things wrong in this analysis, but I found it\n",
    "a good learning experience. If you have any comments you can leave an issue on github.\n",
    "First we create a normal distribution for heights\n",
    " The following data is from\n",
    " https://www.cdc.gov/nchs/data/series/sr_03/sr03_039.pdf\n",
    " \n",
    "The number used represents non-hispanic white american males that are 20-39\n",
    "\n",
    "#The red line represents the supposed height\n",
    " \"\"\"\n",
    "\n",
    "h_mean = 178.2\n",
    "# reconstruct the standard deviation by multiply the standard error by the sqrt\n",
    "# of sample size\n",
    "h_std = 0.27*np.sqrt(715)\n",
    "norm_dist = st.norm(loc=h_mean,scale=h_std)\n",
    "#construct graph of our population estimate\n",
    "x = np.linspace(h_mean-h_std*3,h_mean+h_std*3,1000)\n",
    "y = norm_dist.pdf(x)\n",
    "plt.plot(x,y)\n",
    "plt.axvline(193,c='r') #Draw a line at his supposed height!\n",
    "\n",
    "\n",
    "\n"
   ]
  },
  {
   "cell_type": "code",
   "execution_count": 245,
   "metadata": {},
   "outputs": [
    {
     "name": "stdout",
     "output_type": "stream",
     "text": [
      "0.997300203937\n"
     ]
    }
   ],
   "source": [
    "# Then we ask how much data is captured in 3 standard deviations\n",
    "bot,top = norm_dist.cdf([h_mean-h_std*3,h_mean+h_std*3])\n",
    "prob = top-bot\n",
    "print(prob)\n",
    "# This covers enough of a range to ignore everything else imo\n"
   ]
  },
  {
   "cell_type": "code",
   "execution_count": 246,
   "metadata": {},
   "outputs": [
    {
     "data": {
      "text/html": [
       "<div>\n",
       "<style scoped>\n",
       "    .dataframe tbody tr th:only-of-type {\n",
       "        vertical-align: middle;\n",
       "    }\n",
       "\n",
       "    .dataframe tbody tr th {\n",
       "        vertical-align: top;\n",
       "    }\n",
       "\n",
       "    .dataframe thead th {\n",
       "        text-align: right;\n",
       "    }\n",
       "</style>\n",
       "<table border=\"1\" class=\"dataframe\">\n",
       "  <thead>\n",
       "    <tr style=\"text-align: right;\">\n",
       "      <th></th>\n",
       "      <th>cm</th>\n",
       "      <th>feet</th>\n",
       "      <th>inches</th>\n",
       "      <th>inches_cut</th>\n",
       "      <th>inches_n</th>\n",
       "    </tr>\n",
       "  </thead>\n",
       "  <tbody>\n",
       "    <tr>\n",
       "      <th>147</th>\n",
       "      <td>162.915133</td>\n",
       "      <td>5.0</td>\n",
       "      <td>4.139816</td>\n",
       "      <td>(4, 5]</td>\n",
       "      <td>5'4''</td>\n",
       "    </tr>\n",
       "    <tr>\n",
       "      <th>202</th>\n",
       "      <td>165.300006</td>\n",
       "      <td>5.0</td>\n",
       "      <td>5.078742</td>\n",
       "      <td>(5, 6]</td>\n",
       "      <td>5'5''</td>\n",
       "    </tr>\n",
       "    <tr>\n",
       "      <th>124</th>\n",
       "      <td>161.917822</td>\n",
       "      <td>5.0</td>\n",
       "      <td>3.747174</td>\n",
       "      <td>(3, 4]</td>\n",
       "      <td>5'3''</td>\n",
       "    </tr>\n",
       "    <tr>\n",
       "      <th>297</th>\n",
       "      <td>169.419332</td>\n",
       "      <td>5.0</td>\n",
       "      <td>6.700524</td>\n",
       "      <td>(6, 7]</td>\n",
       "      <td>5'6''</td>\n",
       "    </tr>\n",
       "    <tr>\n",
       "      <th>267</th>\n",
       "      <td>168.118492</td>\n",
       "      <td>5.0</td>\n",
       "      <td>6.188383</td>\n",
       "      <td>(6, 7]</td>\n",
       "      <td>5'6''</td>\n",
       "    </tr>\n",
       "  </tbody>\n",
       "</table>\n",
       "</div>"
      ],
      "text/plain": [
       "             cm  feet    inches inches_cut inches_n\n",
       "147  162.915133   5.0  4.139816     (4, 5]    5'4''\n",
       "202  165.300006   5.0  5.078742     (5, 6]    5'5''\n",
       "124  161.917822   5.0  3.747174     (3, 4]    5'3''\n",
       "297  169.419332   5.0  6.700524     (6, 7]    5'6''\n",
       "267  168.118492   5.0  6.188383     (6, 7]    5'6''"
      ]
     },
     "execution_count": 246,
     "metadata": {},
     "output_type": "execute_result"
    }
   ],
   "source": [
    "# Since we are interested in a question of \"what are the chances he is this tall/his most likely height\" rather\n",
    "# than \"what is the distribution of our estimate of his height\" I will bin the data into\n",
    "# various categories since we are not very interested in the continous nature of\n",
    "# the data\n",
    "x = x #this is height in cm\n",
    "# convert to inches\n",
    "_x = x/2.54\n",
    "#split into feet'inches'' format\n",
    "f = _x//12 #int divisision so x.y gets cast to x\n",
    "i = _x%12 #inches out of 12 inches\n",
    "df = pd.DataFrame({'cm':x,'feet':f,'inches':i}) #store in dataframe\n",
    "#let's bin the data so that inches of 1.1,1.2,1.3 are converted\n",
    "# to 1\n",
    "df['inches_cut']=pd.cut(df['inches'],[0,1,2,3,4,5,6,7,8,9,10,11,12])\n",
    "#make a new columns representing classic notation of f'i''\n",
    "_f = df['feet'].map(lambda x: str(x)[0])\n",
    "_i = df['inches_cut'].map(lambda x: str(x.left)[0] if int(x.left)<10 else str(x.left)[:2]).astype(str)\n",
    "df['inches_n'] = _f + '\\'' + _i + '\\'\\''\n",
    "df.sample(5)"
   ]
  },
  {
   "cell_type": "code",
   "execution_count": 247,
   "metadata": {},
   "outputs": [
    {
     "data": {
      "text/html": [
       "<div>\n",
       "<style scoped>\n",
       "    .dataframe tbody tr th:only-of-type {\n",
       "        vertical-align: middle;\n",
       "    }\n",
       "\n",
       "    .dataframe tbody tr th {\n",
       "        vertical-align: top;\n",
       "    }\n",
       "\n",
       "    .dataframe thead th {\n",
       "        text-align: right;\n",
       "    }\n",
       "</style>\n",
       "<table border=\"1\" class=\"dataframe\">\n",
       "  <thead>\n",
       "    <tr style=\"text-align: right;\">\n",
       "      <th></th>\n",
       "      <th>cm</th>\n",
       "      <th>feet</th>\n",
       "      <th>inches</th>\n",
       "      <th>inches_cut</th>\n",
       "      <th>inches_n</th>\n",
       "    </tr>\n",
       "  </thead>\n",
       "  <tbody>\n",
       "    <tr>\n",
       "      <th>0</th>\n",
       "      <td>154.94</td>\n",
       "      <td>5</td>\n",
       "      <td>1</td>\n",
       "      <td>(1, 2]</td>\n",
       "      <td>5'1''</td>\n",
       "    </tr>\n",
       "    <tr>\n",
       "      <th>1</th>\n",
       "      <td>157.48</td>\n",
       "      <td>5</td>\n",
       "      <td>2</td>\n",
       "      <td>(2, 3]</td>\n",
       "      <td>5'2''</td>\n",
       "    </tr>\n",
       "    <tr>\n",
       "      <th>2</th>\n",
       "      <td>160.02</td>\n",
       "      <td>5</td>\n",
       "      <td>3</td>\n",
       "      <td>(3, 4]</td>\n",
       "      <td>5'3''</td>\n",
       "    </tr>\n",
       "    <tr>\n",
       "      <th>3</th>\n",
       "      <td>162.56</td>\n",
       "      <td>5</td>\n",
       "      <td>4</td>\n",
       "      <td>(4, 5]</td>\n",
       "      <td>5'4''</td>\n",
       "    </tr>\n",
       "    <tr>\n",
       "      <th>4</th>\n",
       "      <td>165.10</td>\n",
       "      <td>5</td>\n",
       "      <td>5</td>\n",
       "      <td>(5, 6]</td>\n",
       "      <td>5'5''</td>\n",
       "    </tr>\n",
       "    <tr>\n",
       "      <th>5</th>\n",
       "      <td>167.64</td>\n",
       "      <td>5</td>\n",
       "      <td>6</td>\n",
       "      <td>(6, 7]</td>\n",
       "      <td>5'6''</td>\n",
       "    </tr>\n",
       "    <tr>\n",
       "      <th>6</th>\n",
       "      <td>170.18</td>\n",
       "      <td>5</td>\n",
       "      <td>7</td>\n",
       "      <td>(7, 8]</td>\n",
       "      <td>5'7''</td>\n",
       "    </tr>\n",
       "    <tr>\n",
       "      <th>7</th>\n",
       "      <td>172.72</td>\n",
       "      <td>5</td>\n",
       "      <td>8</td>\n",
       "      <td>(8, 9]</td>\n",
       "      <td>5'8''</td>\n",
       "    </tr>\n",
       "    <tr>\n",
       "      <th>8</th>\n",
       "      <td>175.26</td>\n",
       "      <td>5</td>\n",
       "      <td>9</td>\n",
       "      <td>(9, 10]</td>\n",
       "      <td>5'9''</td>\n",
       "    </tr>\n",
       "    <tr>\n",
       "      <th>9</th>\n",
       "      <td>177.80</td>\n",
       "      <td>5</td>\n",
       "      <td>10</td>\n",
       "      <td>(10, 11]</td>\n",
       "      <td>5'10''</td>\n",
       "    </tr>\n",
       "    <tr>\n",
       "      <th>10</th>\n",
       "      <td>180.34</td>\n",
       "      <td>5</td>\n",
       "      <td>11</td>\n",
       "      <td>(11, 12]</td>\n",
       "      <td>5'11''</td>\n",
       "    </tr>\n",
       "    <tr>\n",
       "      <th>11</th>\n",
       "      <td>182.88</td>\n",
       "      <td>6</td>\n",
       "      <td>0</td>\n",
       "      <td>(0, 1]</td>\n",
       "      <td>6'0''</td>\n",
       "    </tr>\n",
       "    <tr>\n",
       "      <th>12</th>\n",
       "      <td>185.42</td>\n",
       "      <td>6</td>\n",
       "      <td>1</td>\n",
       "      <td>(1, 2]</td>\n",
       "      <td>6'1''</td>\n",
       "    </tr>\n",
       "    <tr>\n",
       "      <th>13</th>\n",
       "      <td>187.96</td>\n",
       "      <td>6</td>\n",
       "      <td>2</td>\n",
       "      <td>(2, 3]</td>\n",
       "      <td>6'2''</td>\n",
       "    </tr>\n",
       "    <tr>\n",
       "      <th>14</th>\n",
       "      <td>190.50</td>\n",
       "      <td>6</td>\n",
       "      <td>3</td>\n",
       "      <td>(3, 4]</td>\n",
       "      <td>6'3''</td>\n",
       "    </tr>\n",
       "    <tr>\n",
       "      <th>15</th>\n",
       "      <td>193.04</td>\n",
       "      <td>6</td>\n",
       "      <td>4</td>\n",
       "      <td>(4, 5]</td>\n",
       "      <td>6'4''</td>\n",
       "    </tr>\n",
       "    <tr>\n",
       "      <th>16</th>\n",
       "      <td>195.58</td>\n",
       "      <td>6</td>\n",
       "      <td>5</td>\n",
       "      <td>(5, 6]</td>\n",
       "      <td>6'5''</td>\n",
       "    </tr>\n",
       "    <tr>\n",
       "      <th>17</th>\n",
       "      <td>198.12</td>\n",
       "      <td>6</td>\n",
       "      <td>6</td>\n",
       "      <td>(6, 7]</td>\n",
       "      <td>6'6''</td>\n",
       "    </tr>\n",
       "  </tbody>\n",
       "</table>\n",
       "</div>"
      ],
      "text/plain": [
       "        cm  feet  inches inches_cut inches_n\n",
       "0   154.94     5       1     (1, 2]    5'1''\n",
       "1   157.48     5       2     (2, 3]    5'2''\n",
       "2   160.02     5       3     (3, 4]    5'3''\n",
       "3   162.56     5       4     (4, 5]    5'4''\n",
       "4   165.10     5       5     (5, 6]    5'5''\n",
       "5   167.64     5       6     (6, 7]    5'6''\n",
       "6   170.18     5       7     (7, 8]    5'7''\n",
       "7   172.72     5       8     (8, 9]    5'8''\n",
       "8   175.26     5       9    (9, 10]    5'9''\n",
       "9   177.80     5      10   (10, 11]   5'10''\n",
       "10  180.34     5      11   (11, 12]   5'11''\n",
       "11  182.88     6       0     (0, 1]    6'0''\n",
       "12  185.42     6       1     (1, 2]    6'1''\n",
       "13  187.96     6       2     (2, 3]    6'2''\n",
       "14  190.50     6       3     (3, 4]    6'3''\n",
       "15  193.04     6       4     (4, 5]    6'4''\n",
       "16  195.58     6       5     (5, 6]    6'5''\n",
       "17  198.12     6       6     (6, 7]    6'6''"
      ]
     },
     "execution_count": 247,
     "metadata": {},
     "output_type": "execute_result"
    }
   ],
   "source": [
    "# Now we want to convert these to probability ranges\n",
    "# Which means a new dataframe which only has one value for each height and\n",
    "# which sets feet/inches/cm to the base values\n",
    "df2 = df.drop_duplicates(['inches_n'],inplace=False).copy()\n",
    "df2.reset_index(drop=True,inplace=True)\n",
    "df2['feet'] = df2['feet'].astype(int,copy=True)\n",
    "df2['inches'] = df2['inches'].astype(int,copy=False)\n",
    "df2['cm'] = df2['feet']*12*2.54 + df2['inches']*2.54\n",
    "df2"
   ]
  },
  {
   "cell_type": "code",
   "execution_count": 248,
   "metadata": {},
   "outputs": [
    {
     "name": "stdout",
     "output_type": "stream",
     "text": [
      "0     0.001418\n",
      "1     0.003852\n",
      "2     0.009259\n",
      "3     0.019688\n",
      "4     0.037035\n",
      "5     0.061634\n",
      "6     0.090742\n",
      "7     0.118193\n",
      "8     0.136199\n",
      "9     0.138852\n",
      "10    0.125236\n",
      "11    0.099931\n",
      "12    0.070545\n",
      "13    0.044058\n",
      "14    0.024343\n",
      "15    0.011899\n",
      "16    0.005145\n",
      "17    0.001968\n",
      "Name: prob, dtype: float64\n"
     ]
    },
    {
     "data": {
      "image/png": "[encoded data removed]",
      "text/plain": [
       "<matplotlib.figure.Figure at 0x7fd14ddd8be0>"
      ]
     },
     "metadata": {},
     "output_type": "display_data"
    }
   ],
   "source": [
    "\"\"\"\n",
    "To calculate probabilities I take the cm height and add \n",
    "2.54cm to it to get a range. I then put this range into our normal from the beginning\"\"\"\n",
    "\n",
    "def calc_prob(x):\n",
    "    _a = norm_dist.cdf(x)\n",
    "    _b = norm_dist.cdf(x+2.54)\n",
    "    # use difference between cdf evaluations\n",
    "    # cdf is cumulative density function\n",
    "    return _b-_a\n",
    "df2['prob'] = df2['cm'].map(calc_prob)\n",
    "df2['prob'] = df2['prob']/df2['prob'].sum() # make sure sum = 1\n",
    "ax = df2.plot(kind='bar',x='inches_n',y='prob')\n",
    "for bar in ax.patches:\n",
    "    bar.set_facecolor('grey')\n",
    "ref = ax.patches[15]\n",
    "ref.set_facecolor('red')\n",
    "ax.annotate(str(ref.get_height())[:5],(ref.get_x()*0.98,ref.get_height()*1.5))\n",
    "ax.legend()\n",
    "print(df2['prob'])"
   ]
  },
  {
   "cell_type": "code",
   "execution_count": 249,
   "metadata": {},
   "outputs": [
    {
     "data": {
      "text/plain": [
       "\"From the above graph we can see that the probability of him being\\n6'4'' based on the population data is only 1.1%!!!!\\nAn important thing to note is that we have cut off some probabilities, which leads \\nto overconfidence in our estimates.\""
      ]
     },
     "execution_count": 249,
     "metadata": {},
     "output_type": "execute_result"
    }
   ],
   "source": [
    "\"\"\"From the above graph we can see that the probability of him being\n",
    "6'4'' based on the population data is only 1.1%!!!!\n",
    "An important thing to note is that we have cut off some probabilities, which leads \n",
    "to overconfidence in our estimates.\"\"\""
   ]
  },
  {
   "cell_type": "code",
   "execution_count": 251,
   "metadata": {},
   "outputs": [
    {
     "data": {
      "text/plain": [
       "<matplotlib.axes._subplots.AxesSubplot at 0x7fd14dd63780>"
      ]
     },
     "execution_count": 251,
     "metadata": {},
     "output_type": "execute_result"
    },
    {
     "data": {
      "image/png": "[encoded data removed]",
      "text/plain": [
       "<matplotlib.figure.Figure at 0x7fd14dd5b668>"
      ]
     },
     "metadata": {},
     "output_type": "display_data"
    }
   ],
   "source": [
    "# We will use the dirichlet to estimate our parameters for\n",
    "# the above categorical distribution\n",
    "# The reason we do this is that dirichlet is the conjugate prior\n",
    "# of the categorical distribution\n",
    "# I showcase below what 1000 samples from a dirichlet using\n",
    "# our above probilities looks like\n",
    "a=st.dirichlet(df2['prob']).rvs(1000)\n",
    "_df = pd.DataFrame(a)\n",
    "_df = pd.melt(_df,value_vars=range(0,18))\n",
    "sns.barplot(data=_df,x='variable',y='value')"
   ]
  },
  {
   "cell_type": "code",
   "execution_count": 252,
   "metadata": {},
   "outputs": [
    {
     "name": "stderr",
     "output_type": "stream",
     "text": [
      "INFO:pystan:COMPILING THE C++ CODE FOR MODEL anon_model_6301dded9584a16d76f94772ac584695 NOW.\n"
     ]
    }
   ],
   "source": [
    "\"\"\"\n",
    "Let us use Stan, a statistical modelling language, to estimate a new categorical distribution\n",
    "from our one sample of 6'4\"\n",
    "A brief theoretical background for this work is that we are essentially using Bayes rule\n",
    "to compute P(theta|x)=P(x|theta)p(theta)/P(x)\n",
    "Here p(theta) is our prior, which is our dirichlet distibution from the population data\n",
    "p(x|theta) is our likelihood, an estimate of our sample given our prior. Categorical dist\n",
    "p(x) is our marginal likelihood\n",
    "p(theta|x) is our posterior, our estimate of theta after seeing the data. Also a categorical dist\n",
    "\n",
    "What we want to do is maximize our likelihood of observing our sample x, by playing around\n",
    "with the value of theta. In this case, we do it with stan by searching our solution space\n",
    "using markov chain monte carl (MCMC)\n",
    "\n",
    "\"\"\"\n",
    "height_code = \"\"\"\n",
    "data {\n",
    "    int<lower=0> K;\n",
    "    int<lower=0, upper=K> obs;\n",
    "    simplex[K] alpha;\n",
    "}\n",
    "parameters {\n",
    "    simplex[K] s;\n",
    "}\n",
    "model {\n",
    "    s ~ dirichlet(alpha);\n",
    "    obs ~ categorical(s);\n",
    "}\n",
    "\"\"\"\n",
    "sm = pystan.StanModel(model_code=height_code)"
   ]
  },
  {
   "cell_type": "code",
   "execution_count": 253,
   "metadata": {},
   "outputs": [
    {
     "data": {
      "text/plain": [
       "Inference for Stan model: anon_model_6301dded9584a16d76f94772ac584695.\n",
       "10 chains, each with iter=2000; warmup=1000; thin=1; \n",
       "post-warmup draws per chain=1000, total post-warmup draws=10000.\n",
       "\n",
       "        mean se_mean     sd   2.5%    25%    50%    75%  97.5%  n_eff   Rhat\n",
       "s[0]  8.9e-4  2.4e-4   0.023.1e-2961.4e-1998.5e-1185.0e-57 5.6e-6   4196    1.0\n",
       "s[1]  1.6e-3  3.1e-4   0.021.7e-2727.5e-1481.8e-746.4e-32 8.5e-4   3793    1.0\n",
       "s[2]  4.4e-3  3.9e-4   0.045.4e-1561.1e-614.9e-322.3e-14   0.03   8646    1.0\n",
       "s[3]    0.01  7.2e-4   0.069.2e-887.5e-361.6e-18 8.3e-8   0.13   6608    1.0\n",
       "s[4]    0.02  1.1e-3   0.072.7e-424.4e-18 1.5e-9 1.5e-4   0.24   4268    1.0\n",
       "s[5]    0.03  1.8e-3    0.11.0e-291.8e-11 3.8e-6 3.6e-3   0.36   3162    1.0\n",
       "s[6]    0.05  2.7e-3   0.125.9e-22 1.4e-7 1.8e-4   0.02   0.48   2175    1.0\n",
       "s[7]    0.06  2.8e-3   0.138.3e-14 2.0e-6 1.3e-3   0.04   0.49   2223    1.0\n",
       "s[8]    0.07  3.3e-3   0.146.8e-13 1.9e-5 3.1e-3   0.05   0.54   1837   1.01\n",
       "s[9]    0.08  3.6e-3   0.161.0e-13 2.2e-5 3.5e-3   0.07   0.58   1903    1.0\n",
       "s[10]   0.06  3.4e-3   0.141.8e-15 2.3e-6 1.4e-3   0.04   0.52   1624    1.0\n",
       "s[11]   0.05  2.2e-3   0.123.4e-16 7.9e-7 5.0e-4   0.02   0.47   2976    1.0\n",
       "s[12]   0.04  2.0e-3   0.118.4e-25 1.2e-9 2.1e-5 6.5e-3   0.39   2649    1.0\n",
       "s[13]   0.02  1.2e-3   0.093.7e-412.1e-15 2.6e-8 3.8e-4   0.28   5561    1.0\n",
       "s[14]   0.01  7.0e-4   0.061.1e-662.9e-264.0e-13 5.5e-6   0.15   6977    1.0\n",
       "s[15]   0.49  5.7e-3   0.29   0.03   0.25    0.5   0.74   0.97   2493    1.0\n",
       "s[16] 1.5e-3  3.2e-4   0.021.2e-2402.1e-1027.2e-513.6e-18 1.4e-3   4325    1.0\n",
       "s[17]   0.01  1.1e-3   0.071.0e-236.9e-14 2.8e-9 4.4e-5   0.19   3696    1.0\n",
       "lp__  -17.26    0.24    3.9 -26.14 -19.57 -16.84 -14.55 -10.76    255   1.03\n",
       "\n",
       "Samples were drawn using NUTS at Sat Feb  3 18:18:21 2018.\n",
       "For each parameter, n_eff is a crude measure of effective sample size,\n",
       "and Rhat is the potential scale reduction factor on split chains (at \n",
       "convergence, Rhat=1)."
      ]
     },
     "execution_count": 253,
     "metadata": {},
     "output_type": "execute_result"
    }
   ],
   "source": [
    "height_dat ={'K':18,'obs':16,'alpha':df2['prob']}\n",
    "fit = sm.sampling(data=height_dat,chains=10)\n",
    "fit"
   ]
  },
  {
   "cell_type": "code",
   "execution_count": 256,
   "metadata": {},
   "outputs": [],
   "source": [
    "#Let us grab the results from our simulation \n",
    "#and visualize them!\n",
    "data = fit.get_posterior_mean()[:-1]\n",
    "means = list(map(lambda x:np.average(x), data))\n",
    "std = list(map(lambda x:np.std(x), data))\n",
    "df2['new_prob'] = means\n",
    "df2['std'] = std"
   ]
  },
  {
   "cell_type": "code",
   "execution_count": 257,
   "metadata": {},
   "outputs": [
    {
     "name": "stdout",
     "output_type": "stream",
     "text": [
      "0     0.001418\n",
      "1     0.003852\n",
      "2     0.009259\n",
      "3     0.019688\n",
      "4     0.037035\n",
      "5     0.061634\n",
      "6     0.090742\n",
      "7     0.118193\n",
      "8     0.136199\n",
      "9     0.138852\n",
      "10    0.125236\n",
      "11    0.099931\n",
      "12    0.070545\n",
      "13    0.044058\n",
      "14    0.024343\n",
      "15    0.011899\n",
      "16    0.005145\n",
      "17    0.001968\n",
      "Name: prob, dtype: float64\n"
     ]
    },
    {
     "data": {
      "image/png": "[encoded data removed]",
      "text/plain": [
       "<matplotlib.figure.Figure at 0x7fd14df052e8>"
      ]
     },
     "metadata": {},
     "output_type": "display_data"
    }
   ],
   "source": [
    "ax = df2.plot(kind='bar',x='inches_n',y='new_prob')\n",
    "for bar in ax.patches:\n",
    "    bar.set_facecolor('grey')\n",
    "ref = ax.patches[15]\n",
    "ref.set_facecolor('red')\n",
    "ax.annotate(str(ref.get_height())[:5],(ref.get_x()*1,ref.get_height()*1))\n",
    "ax.legend()\n",
    "print(df2['prob'])"
   ]
  },
  {
   "cell_type": "markdown",
   "metadata": {},
   "source": [
    "Seeing such a rare recording greatly shifts the probability of it being true towards ~50%\n",
    "One important thing to note about this is that we do not plot the standard deviations from\n",
    "our estimate. This is a pretty big source of error, but I'm not going to go through that effort\n",
    "right now :)"
   ]
  }
 ],
 "metadata": {
  "kernelspec": {
   "display_name": "Python 3",
   "language": "python",
   "name": "python3"
  },
  "language_info": {
   "codemirror_mode": {
    "name": "ipython",
    "version": 3
   },
   "file_extension": ".py",
   "mimetype": "text/x-python",
   "name": "python",
   "nbconvert_exporter": "python",
   "pygments_lexer": "ipython3",
   "version": "3.6.4"
  }
 },
 "nbformat": 4,
 "nbformat_minor": 2
}
